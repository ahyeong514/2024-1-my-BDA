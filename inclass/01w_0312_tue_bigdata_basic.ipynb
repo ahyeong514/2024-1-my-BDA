{
  "nbformat": 4,
  "nbformat_minor": 0,
  "metadata": {
    "colab": {
      "provenance": [],
      "authorship_tag": "ABX9TyP9XLXIF1azc1y1SBUHccVQ",
      "include_colab_link": true
    },
    "kernelspec": {
      "name": "python3",
      "display_name": "Python 3"
    },
    "language_info": {
      "name": "python"
    }
  },
  "cells": [
    {
      "cell_type": "markdown",
      "metadata": {
        "id": "view-in-github",
        "colab_type": "text"
      },
      "source": [
        "<a href=\"https://colab.research.google.com/github/ahyeong514/2024-1-my-BDA/blob/main/inclass/01w_0312_tue_bigdata_basic.ipynb\" target=\"_parent\"><img src=\"https://colab.research.google.com/assets/colab-badge.svg\" alt=\"Open In Colab\"/></a>"
      ]
    },
    {
      "cell_type": "markdown",
      "source": [
        "### **빅데이터분석프로그래밍**"
      ],
      "metadata": {
        "id": "sDWTn6rcLN92"
      }
    },
    {
      "cell_type": "markdown",
      "source": [
        "01주 2024-0312-화"
      ],
      "metadata": {
        "id": "-7swDoaRLN1O"
      }
    },
    {
      "cell_type": "markdown",
      "source": [
        "파이썬 설치 확인"
      ],
      "metadata": {
        "id": "AOs6A5a6LcYV"
      }
    },
    {
      "cell_type": "code",
      "source": [
        "import site\n",
        "site.getusersitepackages()"
      ],
      "metadata": {
        "id": "RhrDKBFWLoZu"
      },
      "execution_count": null,
      "outputs": []
    },
    {
      "cell_type": "code",
      "source": [
        "import sys\n",
        "sys.version"
      ],
      "metadata": {
        "colab": {
          "base_uri": "https://localhost:8080/",
          "height": 35
        },
        "id": "pYH3bf-LLg_7",
        "outputId": "56831461-3019-4b65-e127-072003ec0ee6"
      },
      "execution_count": 1,
      "outputs": [
        {
          "output_type": "execute_result",
          "data": {
            "text/plain": [
              "'3.10.12 (main, Nov 20 2023, 15:14:05) [GCC 11.4.0]'"
            ],
            "application/vnd.google.colaboratory.intrinsic+json": {
              "type": "string"
            }
          },
          "metadata": {},
          "execution_count": 1
        }
      ]
    }
  ]
}