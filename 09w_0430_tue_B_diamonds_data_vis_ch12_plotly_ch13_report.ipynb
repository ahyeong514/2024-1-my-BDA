{
  "nbformat": 4,
  "nbformat_minor": 0,
  "metadata": {
    "colab": {
      "provenance": [],
      "authorship_tag": "ABX9TyPDwZ6RJtVIu3zhaZPItVnO",
      "include_colab_link": true
    },
    "kernelspec": {
      "name": "python3",
      "display_name": "Python 3"
    },
    "language_info": {
      "name": "python"
    }
  },
  "cells": [
    {
      "cell_type": "markdown",
      "metadata": {
        "id": "view-in-github",
        "colab_type": "text"
      },
      "source": [
        "<a href=\"https://colab.research.google.com/github/ahyeong514/2024-1-my-BDA/blob/main/09w_0430_tue_B_diamonds_data_vis_ch12_plotly_ch13_report.ipynb\" target=\"_parent\"><img src=\"https://colab.research.google.com/assets/colab-badge.svg\" alt=\"Open In Colab\"/></a>"
      ]
    },
    {
      "cell_type": "markdown",
      "source": [
        "## 빅데이터분석프로그래밍\n",
        "\n",
        "09주차 B반"
      ],
      "metadata": {
        "id": "LqsWy2KKHMLj"
      }
    },
    {
      "cell_type": "code",
      "execution_count": null,
      "metadata": {
        "id": "EUYH22KlHKYd"
      },
      "outputs": [],
      "source": [
        "import site\n",
        "site.getsitepackages()"
      ]
    },
    {
      "cell_type": "code",
      "source": [
        "import sys\n",
        "import pandas as pd\n",
        "import numpy as np\n",
        "import seaborn as sns\n",
        "import missingno as msno\n",
        "\n",
        "print(sys.version)\n",
        "print(pd.__version__)\n",
        "print(np.__version__)\n",
        "print(sns.__version__)\n",
        "print(msno.__version__)"
      ],
      "metadata": {
        "id": "9PRjfvbjHL4q"
      },
      "execution_count": null,
      "outputs": []
    },
    {
      "cell_type": "markdown",
      "source": [
        "##코랩에서 한글 처리"
      ],
      "metadata": {
        "id": "316zFi_KHUpH"
      }
    },
    {
      "cell_type": "code",
      "source": [
        "!pip install koreanize_matplotlib\n"
      ],
      "metadata": {
        "id": "_xRWjwAnHL2E"
      },
      "execution_count": null,
      "outputs": []
    },
    {
      "cell_type": "markdown",
      "source": [
        "## 그래프 설정"
      ],
      "metadata": {
        "id": "kAUA6VDnHYnP"
      }
    },
    {
      "cell_type": "code",
      "source": [
        "# 그림 선명하게\n",
        "%config InlineBackend.figure_format = 'retina'"
      ],
      "metadata": {
        "id": "SxR5fLjqHLzo"
      },
      "execution_count": null,
      "outputs": []
    },
    {
      "cell_type": "code",
      "source": [
        "# 그림 해상도와 크기: 해상도를 높이면 크기에 비례에 커짐\n",
        "import matplotlib.pyplot as plt\n",
        "\n",
        "plt.rcParams.update({'figure.dpi' : '100'})             # 해상도, 기본값 72\n",
        "plt.rcParams.update({'figure.figsize' : [4, 2.5]})      # 그림 크기, 기본값 [6, 4]"
      ],
      "metadata": {
        "id": "pgIRROMCHLxT"
      },
      "execution_count": null,
      "outputs": []
    },
    {
      "cell_type": "code",
      "source": [
        "# 데이터프레임의 소수점 이하 n(2)자리 출력 설정\n",
        "pd.set_option('display.precision', 2)"
      ],
      "metadata": {
        "id": "gqdMzX4DHLut"
      },
      "execution_count": null,
      "outputs": []
    },
    {
      "cell_type": "code",
      "source": [
        "import matplotlib.pyplot as plt\n",
        "import koreanize_matplotlib\n",
        "\n",
        "plt.plot([-10, 5, -3, 1])\n",
        "plt.title('그래프 제목')\n",
        "plt.xlabel('직선')\n",
        "plt.show()"
      ],
      "metadata": {
        "id": "gKVNWY3XHLsN"
      },
      "execution_count": null,
      "outputs": []
    },
    {
      "cell_type": "markdown",
      "source": [
        "## 수업에서 사용할 데이터를 다음 깃에서 복사\n",
        "\n",
        "https://github.com/ai7dnn/data.git\n",
        "수업에서 파일 사용 시\n",
        "\n",
        "* 현재 하부 폴더: data\n",
        "* 파일: data/파일이름"
      ],
      "metadata": {
        "id": "u6dNbSNaHliO"
      }
    },
    {
      "cell_type": "code",
      "source": [
        "!git clone https://github.com/ai7dnn/data.git"
      ],
      "metadata": {
        "id": "AER_Aw3UHLpn"
      },
      "execution_count": null,
      "outputs": []
    },
    {
      "cell_type": "markdown",
      "source": [
        "## 데이터프레임 가로로 여러 개 출력하기"
      ],
      "metadata": {
        "id": "fue9b0YUHrrj"
      }
    },
    {
      "cell_type": "code",
      "source": [
        "exam = pd.read_csv('data/exam.csv')\n",
        "exam.info()"
      ],
      "metadata": {
        "id": "7HSGuWUYHLm5"
      },
      "execution_count": null,
      "outputs": []
    },
    {
      "cell_type": "code",
      "source": [
        "from IPython.display import display_html\n",
        "def display_sbs(*args):\n",
        "    \"\"\"여러 데이터프레임 비교가 쉽게 옆쪽으로 표시한다\"\"\"\n",
        "    html_str=''\n",
        "    for df in args:\n",
        "        html_str += df.to_html() + '&nbsp;'*4\n",
        "    display_html(html_str.replace('table','table style=\"display:inline\"'), raw=True)"
      ],
      "metadata": {
        "id": "ynMOl9mKHLkb"
      },
      "execution_count": null,
      "outputs": []
    },
    {
      "cell_type": "code",
      "source": [
        "display_sbs(exam, exam[['id', 'math', 'english']])"
      ],
      "metadata": {
        "id": "BUDQ_IzGHLiV"
      },
      "execution_count": null,
      "outputs": []
    },
    {
      "cell_type": "markdown",
      "source": [
        "## seaborn의 대표적 토이 데이터셋, 다이아몬드 데이터셋"
      ],
      "metadata": {
        "id": "7-Jed2_3HzDT"
      }
    },
    {
      "cell_type": "code",
      "source": [
        "diamonds= sns.load_dataset(\"diamonds\")\n",
        "diamonds.info()"
      ],
      "metadata": {
        "id": "MxomMV5WHLff"
      },
      "execution_count": null,
      "outputs": []
    },
    {
      "cell_type": "code",
      "source": [
        "diamonds.columns"
      ],
      "metadata": {
        "id": "xjATOCNoHLdR"
      },
      "execution_count": null,
      "outputs": []
    },
    {
      "cell_type": "code",
      "source": [
        "# 중간고사: 속성 shape\n",
        "diamonds.shape"
      ],
      "metadata": {
        "id": "Z43g99ZlHLab"
      },
      "execution_count": null,
      "outputs": []
    },
    {
      "cell_type": "code",
      "source": [
        "# 중간고사: 열 이름 수정 rename(, inplace = True)\n",
        "diamonds.rename(columns = {'table': 'dtab'}, inplace = True)\n",
        "diamonds.columns"
      ],
      "metadata": {
        "id": "qfK9UBJKHLX1"
      },
      "execution_count": null,
      "outputs": []
    },
    {
      "cell_type": "code",
      "source": [
        "diamonds[['carat', 'price']].head()"
      ],
      "metadata": {
        "id": "66Vt-GPnIB-Z"
      },
      "execution_count": null,
      "outputs": []
    },
    {
      "cell_type": "code",
      "source": [
        "diamonds[['carat', 'price']].tail()"
      ],
      "metadata": {
        "id": "6foeee5JIB7t"
      },
      "execution_count": null,
      "outputs": []
    },
    {
      "cell_type": "code",
      "source": [
        "diamonds[['carat', 'price']].sort_values('price', ascending=False).head()"
      ],
      "metadata": {
        "id": "xRwSurc7IB4u"
      },
      "execution_count": null,
      "outputs": []
    },
    {
      "cell_type": "code",
      "source": [
        "display_sbs(diamonds[['carat', 'price']].head(), diamonds[['carat', 'price']].tail(), diamonds[['carat', 'price']].sort_values('price', ascending=False).head())\n"
      ],
      "metadata": {
        "id": "dSQA3hrbIB2B"
      },
      "execution_count": null,
      "outputs": []
    },
    {
      "cell_type": "code",
      "source": [
        "type(diamonds.cut)"
      ],
      "metadata": {
        "id": "SvDvabx1IBzl"
      },
      "execution_count": null,
      "outputs": []
    },
    {
      "cell_type": "code",
      "source": [
        "diamonds.cut.unique()"
      ],
      "metadata": {
        "id": "p2iaTxB5IBws"
      },
      "execution_count": null,
      "outputs": []
    },
    {
      "cell_type": "code",
      "source": [
        "print(diamonds.cut.cat.categories)\n",
        "print(diamonds.color.cat.categories)\n",
        "print(diamonds.clarity.cat.categories)"
      ],
      "metadata": {
        "id": "z5a5JQFeIBt-"
      },
      "execution_count": null,
      "outputs": []
    },
    {
      "cell_type": "code",
      "source": [
        "diamonds.head()"
      ],
      "metadata": {
        "id": "xa2psoalIBrZ"
      },
      "execution_count": null,
      "outputs": []
    },
    {
      "cell_type": "code",
      "source": [
        "diamonds.cut.value_counts()"
      ],
      "metadata": {
        "id": "aBTP4rfsIBo8"
      },
      "execution_count": null,
      "outputs": []
    },
    {
      "cell_type": "code",
      "source": [
        "diamonds.clarity.value_counts()\n"
      ],
      "metadata": {
        "id": "oKCCTPc0IBmO"
      },
      "execution_count": null,
      "outputs": []
    },
    {
      "cell_type": "code",
      "source": [
        "diamonds.color.value_counts()"
      ],
      "metadata": {
        "id": "hgakIazdIBjg"
      },
      "execution_count": null,
      "outputs": []
    },
    {
      "cell_type": "code",
      "source": [
        "diamonds.isna().sum()"
      ],
      "metadata": {
        "id": "B5RRIeg0IBgx"
      },
      "execution_count": null,
      "outputs": []
    },
    {
      "cell_type": "code",
      "source": [
        "diamonds.isna().sum().sum()"
      ],
      "metadata": {
        "id": "4fLoiEjrIBd3"
      },
      "execution_count": null,
      "outputs": []
    },
    {
      "cell_type": "code",
      "source": [
        "# 중간고사: dropna()\n",
        "diamonds.dropna()"
      ],
      "metadata": {
        "id": "Ptv5JgppHLVf"
      },
      "execution_count": null,
      "outputs": []
    },
    {
      "cell_type": "code",
      "source": [
        "df = pd.DataFrame({\"name\": ['Alfred', 'Batman', 'Catwoman'],\n",
        "                   \"toy\": [np.nan, 'Batmobile', 'Bullwhip'],\n",
        "                   \"born\": [pd.NaT, pd.Timestamp(\"1940-04-25\"),\n",
        "                            pd.NaT]})\n",
        "df"
      ],
      "metadata": {
        "id": "7eENGVdoIZMa"
      },
      "execution_count": null,
      "outputs": []
    },
    {
      "cell_type": "code",
      "source": [
        "display_sbs(df, df.dropna())"
      ],
      "metadata": {
        "id": "xa3hRrBKIZJs"
      },
      "execution_count": null,
      "outputs": []
    },
    {
      "cell_type": "code",
      "source": [
        "msno.matrix(diamonds);"
      ],
      "metadata": {
        "id": "piDqFjrPIZHG"
      },
      "execution_count": null,
      "outputs": []
    },
    {
      "cell_type": "code",
      "source": [
        "msno.bar(diamonds);"
      ],
      "metadata": {
        "id": "yCqlbJutIZEq"
      },
      "execution_count": null,
      "outputs": []
    },
    {
      "cell_type": "markdown",
      "source": [
        "## 자료참조"
      ],
      "metadata": {
        "id": "JazkhCSdIfIf"
      }
    },
    {
      "cell_type": "code",
      "source": [
        "display_sbs(diamonds[['price', 'carat']].head(), diamonds[['clarity', 'cut']].tail())"
      ],
      "metadata": {
        "id": "257y0vibIZBy"
      },
      "execution_count": null,
      "outputs": []
    },
    {
      "cell_type": "code",
      "source": [
        "display_sbs(diamonds.loc[50:55, ['depth', 'price', 'x']], diamonds[50:55])"
      ],
      "metadata": {
        "id": "IrWHeYvEIY_F"
      },
      "execution_count": null,
      "outputs": []
    },
    {
      "cell_type": "code",
      "source": [
        "diamonds.iloc[50:55]"
      ],
      "metadata": {
        "id": "sE7MhXTGIY8n"
      },
      "execution_count": null,
      "outputs": []
    },
    {
      "cell_type": "code",
      "source": [
        "display_sbs(diamonds.iloc[50:55, [2, 4, 5, 8]], diamonds.iloc[50:55, ])"
      ],
      "metadata": {
        "id": "UfImk8BtIY6B"
      },
      "execution_count": null,
      "outputs": []
    },
    {
      "cell_type": "code",
      "source": [
        "diamonds[diamonds['price'] > 18810]"
      ],
      "metadata": {
        "id": "zTVjrAM2IY3c"
      },
      "execution_count": null,
      "outputs": []
    },
    {
      "cell_type": "code",
      "source": [
        "diamonds[diamonds.price > 18810]"
      ],
      "metadata": {
        "id": "IbozoZ1EIY0_"
      },
      "execution_count": null,
      "outputs": []
    },
    {
      "cell_type": "markdown",
      "source": [
        "## 그룹별 함수 적용"
      ],
      "metadata": {
        "id": "aPajxy_TIqHQ"
      }
    },
    {
      "cell_type": "code",
      "source": [
        "diamonds.groupby(['cut'])[['carat', 'price']].mean()"
      ],
      "metadata": {
        "id": "VZkJYNvfIYy4"
      },
      "execution_count": null,
      "outputs": []
    },
    {
      "cell_type": "code",
      "source": [
        "diamonds.groupby(['cut']).describe()"
      ],
      "metadata": {
        "id": "y2VW4aGfIYwC"
      },
      "execution_count": null,
      "outputs": []
    },
    {
      "cell_type": "code",
      "source": [
        "diamonds.groupby(['cut'])['carat'].describe()"
      ],
      "metadata": {
        "id": "Y_18NtM1IxPu"
      },
      "execution_count": null,
      "outputs": []
    },
    {
      "cell_type": "code",
      "source": [
        "diamonds.groupby(['cut'])['price'].describe()"
      ],
      "metadata": {
        "id": "qMDUNwZxIxNT"
      },
      "execution_count": null,
      "outputs": []
    },
    {
      "cell_type": "code",
      "source": [
        "diamonds.groupby(['color'])['price'].describe()"
      ],
      "metadata": {
        "id": "qod8AkHKIxLC"
      },
      "execution_count": null,
      "outputs": []
    },
    {
      "cell_type": "code",
      "source": [
        "diamonds.groupby(['clarity'])['price'].describe()"
      ],
      "metadata": {
        "id": "1abKTzVGIxIL"
      },
      "execution_count": null,
      "outputs": []
    },
    {
      "cell_type": "code",
      "source": [
        "diamonds.groupby(['clarity', 'cut', 'color'])['price'].agg(['count', 'min', 'mean', 'max'])"
      ],
      "metadata": {
        "id": "jXcuj7HAIxFu"
      },
      "execution_count": null,
      "outputs": []
    },
    {
      "cell_type": "code",
      "source": [
        "diamonds.groupby(['clarity', 'cut', 'color'])['price'].agg(['count', 'min', 'mean', 'max']).sort_values('mean', ascending = False)\n"
      ],
      "metadata": {
        "id": "QSxLIZN2IxDO"
      },
      "execution_count": null,
      "outputs": []
    },
    {
      "cell_type": "code",
      "source": [
        "# 가격이 99% 이상인 것만 출력, 가격 내림차 순으로\n",
        "diamonds[diamonds.price >= diamonds.price.quantile(.9999)].sort_values('price', ascending = False)"
      ],
      "metadata": {
        "id": "sIlznRK5IxAz"
      },
      "execution_count": null,
      "outputs": []
    },
    {
      "cell_type": "code",
      "source": [
        "lst = []\n",
        "df = diamonds\n",
        "for col in ['carat','depth','dtab','price','x','y','z']:\n",
        "# for col in ['carat','depth','table','price','x','y','z']:\n",
        "    target = df[col]\n",
        "    iqr = target.quantile(0.75) - target.quantile(0.25)\n",
        "    outlier = target.loc[(target > target.quantile(0.75) +iqr*1.5) | (target < target.quantile(0.25) - iqr*1.5)]\n",
        "    lst.append([col, len(outlier)])"
      ],
      "metadata": {
        "id": "T-hM7XDfIw-C"
      },
      "execution_count": null,
      "outputs": []
    },
    {
      "cell_type": "code",
      "source": [
        "ratio_df = pd.DataFrame(lst).rename(columns={0:'column',1:'ratio'}).sort_values('ratio',ascending=False)\n",
        "ratio_df"
      ],
      "metadata": {
        "id": "Ehi6Lh5WIw7m"
      },
      "execution_count": null,
      "outputs": []
    },
    {
      "cell_type": "code",
      "source": [
        "cdf = diamonds.groupby(['color'])['price'].agg(['max','min','mean'])\n",
        "cdf"
      ],
      "metadata": {
        "id": "wDlMmDuRIw46"
      },
      "execution_count": null,
      "outputs": []
    },
    {
      "cell_type": "markdown",
      "source": [
        "## 데이터 시각화"
      ],
      "metadata": {
        "id": "bu6euGcYI_hQ"
      }
    },
    {
      "cell_type": "code",
      "source": [
        "plt.rcParams.update({'figure.figsize' : [5, 3]})      # 그림 크기, 기본값 [6, 4]\n",
        "\n",
        "sns.countplot(diamonds, x=\"cut\", hue=\"cut\")\n",
        "plt.xlabel(\"다이아몬드 품질(Cut)\")\n",
        "plt.ylabel(\"수량\")\n",
        "plt.title('다이아몬드 품질(Cut) 막대그래프')\n",
        "plt.show()"
      ],
      "metadata": {
        "id": "2i-Ii4M-IYtn"
      },
      "execution_count": null,
      "outputs": []
    },
    {
      "cell_type": "code",
      "source": [
        "plt.rcParams.update({'figure.figsize' : [5, 3]})      # 그림 크기, 기본값 [6, 4]\n",
        "\n",
        "sns.countplot(diamonds, x=\"cut\", hue=\"color\")\n",
        "plt.xlabel(\"다이아몬드 품질(Cut)\")\n",
        "plt.ylabel(\"수량\")\n",
        "plt.title('다이아몬드 품질(Cut) 막대그래프')\n",
        "plt.show()"
      ],
      "metadata": {
        "id": "qEvWZlyJHLS5"
      },
      "execution_count": null,
      "outputs": []
    },
    {
      "cell_type": "code",
      "source": [
        "plt.rcParams.update({'figure.figsize' : [5, 3]})      # 그림 크기, 기본값 [6, 4]\n",
        "\n",
        "sns.countplot(diamonds, x=\"cut\", hue=\"clarity\")\n",
        "plt.xlabel(\"다이아몬드 품질(Cut)\")\n",
        "plt.ylabel(\"수량\")\n",
        "plt.title('다이아몬드 품질(Cut) 막대그래프')\n",
        "plt.show()"
      ],
      "metadata": {
        "id": "QJNuOfRVHLQe"
      },
      "execution_count": null,
      "outputs": []
    },
    {
      "cell_type": "code",
      "source": [
        "sns.histplot(diamonds, x='price');"
      ],
      "metadata": {
        "id": "WFl6vtdWJGjB"
      },
      "execution_count": null,
      "outputs": []
    },
    {
      "cell_type": "code",
      "source": [
        "# kernel density plot, estimate plot 커널 밀도 추정 분포 플롯\n",
        "#기말시험에 나올거같음\n",
        "sns.kdeplot(diamonds, x='price');"
      ],
      "metadata": {
        "id": "Pn-g9ohSJGgi"
      },
      "execution_count": null,
      "outputs": []
    },
    {
      "cell_type": "code",
      "source": [
        "sns.histplot(diamonds, x='price', hue='color', alpha=.2);"
      ],
      "metadata": {
        "id": "5PCf9xeXJGdw"
      },
      "execution_count": null,
      "outputs": []
    },
    {
      "cell_type": "code",
      "source": [
        "sns.kdeplot(diamonds, x='price', hue='color');"
      ],
      "metadata": {
        "id": "TLuwrQfFJGbn"
      },
      "execution_count": null,
      "outputs": []
    },
    {
      "cell_type": "code",
      "source": [
        "plt.rcParams.update({'figure.figsize' : [6, 4]})      # 그림 크기, 기본값 [6, 4]\n",
        "sns.scatterplot(data=diamonds, x=\"carat\", y=\"price\", hue=\"color\", size=\"cut\", alpha=.4)\n",
        "# sns.scatterplot(data=diamonds, x=\"carat\", y=\"price\", hue=\"cut\", size=\"depth\")\n",
        "plt.xlabel(\"다이아몬드 무게(carat)\")\n",
        "plt.ylabel(\"가격\")\n",
        "plt.title('품질 기반 다이아몬드 무게와 가격');"
      ],
      "metadata": {
        "id": "Dl92gllKJGYM"
      },
      "execution_count": null,
      "outputs": []
    },
    {
      "cell_type": "code",
      "source": [
        "sns.rugplot(data=diamonds, x='carat', y='price', hue='color', )\n",
        "plt.xlabel(\"다이아몬드 무게(carat)\")\n",
        "plt.title('품질 기반 다이아몬드 무게와 가격')\n",
        "plt.ylabel(\"가격\");"
      ],
      "metadata": {
        "id": "gfIm3BicJGVe"
      },
      "execution_count": null,
      "outputs": []
    },
    {
      "cell_type": "code",
      "source": [
        "sns.scatterplot(data=diamonds, x=\"carat\", y=\"price\", hue=\"color\", size=\"cut\")\n",
        "sns.rugplot(data=diamonds, x='carat', y='price', hue='color', )\n",
        "plt.legend(loc=4)\n",
        "plt.xlabel(\"다이아몬드 무게(carat)\")\n",
        "plt.ylabel(\"가격(US$)\")\n",
        "plt.title('품질 기반 다이아몬드 무게와 가격: 산점도와 러그플롯');"
      ],
      "metadata": {
        "id": "OciO8BjaJGTK"
      },
      "execution_count": null,
      "outputs": []
    },
    {
      "cell_type": "code",
      "source": [
        "sns.scatterplot(data=diamonds, x=\"carat\", y=\"price\", hue=\"color\", size=\"cut\")\n",
        "sns.rugplot(data=diamonds, x='carat', y='price', hue='color', )\n",
        "plt.legend(bbox_to_anchor=(1, 1))\n",
        "plt.xlabel(\"다이아몬드 무게(carat)\")\n",
        "plt.ylabel(\"가격(US$)\")\n",
        "plt.title('품질 기반 다이아몬드 무게와 가격: 산점도와 러그플롯');"
      ],
      "metadata": {
        "id": "3xMFn4IbJGQx"
      },
      "execution_count": null,
      "outputs": []
    },
    {
      "cell_type": "code",
      "source": [
        "sns.stripplot(diamonds, x='clarity', y='price', hue=\"color\", size=2, alpha=.2)\n",
        "plt.legend(bbox_to_anchor=(1, 0.5))\n",
        "plt.xlabel(\"선명도(clarity)\")\n",
        "plt.ylabel(\"가격(US$)\")\n",
        "plt.title('선명도(clarity) 기반 다이아몬드 무게와 가격: 스트립 플롯');"
      ],
      "metadata": {
        "id": "8kAVG-arJGN0"
      },
      "execution_count": null,
      "outputs": []
    },
    {
      "cell_type": "code",
      "source": [
        "sns.violinplot(diamonds, x=\"cut\", y=\"price\", hue='cut', fill=False)  #fill=False는 바이올린 그림안에 색상을 안넣는것이다.\n",
        "plt.xlabel(\"절단 품질(cut)\")\n",
        "plt.ylabel(\"가격(US$)\")\n",
        "plt.title('절단 품질(cut)과 가격: 바이올린 플롯');"
      ],
      "metadata": {
        "id": "ohSjqSg3JGLa"
      },
      "execution_count": null,
      "outputs": []
    },
    {
      "cell_type": "code",
      "source": [
        "sns.violinplot(diamonds, x=\"cut\", y=\"price\", hue='cut')\n",
        "plt.xlabel(\"절단 품질(cut)\")\n",
        "plt.ylabel(\"가격(US$)\")\n",
        "plt.title('절단 품질(cut)과 가격: 바이올린 플롯');"
      ],
      "metadata": {
        "id": "_8EQoDiDJGII"
      },
      "execution_count": null,
      "outputs": []
    },
    {
      "cell_type": "code",
      "source": [
        "sns.violinplot(diamonds, x='color', y='carat', hue='color', palette='muted', color='royalblue', width=.5)\n",
        "plt.xlabel(\"색상 품질(color)\")\n",
        "plt.ylabel(\"다이아몬드 크기(carat)\")\n",
        "plt.title('다이아몬드 색상 품질(color)과 크기(color): 바이올린 플롯');"
      ],
      "metadata": {
        "id": "QSPv9L0HJYL1"
      },
      "execution_count": null,
      "outputs": []
    },
    {
      "cell_type": "code",
      "source": [
        "sns.violinplot(diamonds, x='color', y='carat', hue='color', palette='pastel', color='royalblue', width=.5)\n",
        "plt.xlabel(\"색상 품질(color)\")\n",
        "plt.ylabel(\"다이아몬드 크기(carat)\")\n",
        "plt.title('다이아몬드 색상 품질(color)과 크기(color): 바이올린 플롯');"
      ],
      "metadata": {
        "id": "d3fw8EZmJYJj"
      },
      "execution_count": null,
      "outputs": []
    },
    {
      "cell_type": "code",
      "source": [
        "sns.violinplot(diamonds, x='cut', y='price', hue='cut', split=True,\n",
        "               gap=.1, inner='quartile', width=1)\n",
        "plt.xlabel(\"절단 품질(cut)\")\n",
        "plt.ylabel(\"가격(US$)\")\n",
        "plt.title('절단 품질(cut)과 가격: 바이올린 플롯')"
      ],
      "metadata": {
        "id": "rq9je0k3JYGy"
      },
      "execution_count": null,
      "outputs": []
    },
    {
      "cell_type": "code",
      "source": [
        "sns.stripplot(diamonds, x='cut', y='price', hue=\"color\", size=4, alpha=.2)\n",
        "sns.violinplot(diamonds, x=\"cut\", y=\"price\", hue='cut', fill=False)\n",
        "plt.legend(loc='center left', bbox_to_anchor=(1, 0.5))\n",
        "plt.xlabel(\"절단 품질(cut)\")\n",
        "plt.ylabel(\"가격(US$)\")\n",
        "plt.title('절단 품질(cut)과 가격: 바이올린 플롯과 스트립 플롯');"
      ],
      "metadata": {
        "id": "jn0bgV2JJYEP"
      },
      "execution_count": null,
      "outputs": []
    },
    {
      "cell_type": "code",
      "source": [
        "g = sns.catplot(\n",
        "    data=diamonds, kind=\"violin\",\n",
        "    x=\"clarity\", y=\"price\", hue=\"clarity\", col='cut', aspect=.6\n",
        ")\n",
        "g.despine(left=True);"
      ],
      "metadata": {
        "id": "Y4Iwy6ZrJYBu"
      },
      "execution_count": null,
      "outputs": []
    },
    {
      "cell_type": "code",
      "source": [
        "fig, my_axis = plt.subplots(2, 2, figsize=(12, 8))\n",
        "sns.pointplot(diamonds, x='cut', y='carat', ax = my_axis[0,0])\n",
        "sns.pointplot(diamonds, x='cut', y='carat', hue='color', ax = my_axis[0,1])\n",
        "sns.pointplot(diamonds, x='carat', y='clarity', ax = my_axis[1,0])\n",
        "sns.pointplot(diamonds, x='carat', y='clarity', hue='color', ax = my_axis[1, 1]);"
      ],
      "metadata": {
        "id": "U6IKDJ33JX_S"
      },
      "execution_count": null,
      "outputs": []
    },
    {
      "cell_type": "code",
      "source": [
        "fig, my_axis = plt.subplots(2, 2, figsize=(12, 7))\n",
        "sns.kdeplot(diamonds, x='price', hue='cut', ax = my_axis[0,0])\n",
        "sns.kdeplot(diamonds, x='price', hue='cut', multiple='stack', ax = my_axis[0,1])\n",
        "sns.kdeplot(diamonds, x='carat', hue='color', ax = my_axis[1,0])\n",
        "sns.kdeplot(diamonds, x='carat', hue='color', multiple='stack', ax = my_axis[1,1]);"
      ],
      "metadata": {
        "id": "V4xXObkJJX8d"
      },
      "execution_count": null,
      "outputs": []
    },
    {
      "cell_type": "code",
      "source": [
        "sns.boxplot(data=diamonds, x='carat', y='cut', color='salmon', width=0.6, linewidth=1.5);"
      ],
      "metadata": {
        "id": "X9RIhu0yJX5y"
      },
      "execution_count": null,
      "outputs": []
    },
    {
      "cell_type": "code",
      "source": [
        "sns.boxplot(data=diamonds, x='clarity', y='price', color='cyan', width=0.6, linewidth=1.5);"
      ],
      "metadata": {
        "id": "Mfw0NeUwJX3n"
      },
      "execution_count": null,
      "outputs": []
    },
    {
      "cell_type": "code",
      "source": [
        "sns.boxplot(data=diamonds, x='color', y='price', color='yellowgreen', width=0.6, linewidth=1.5);"
      ],
      "metadata": {
        "id": "aOw_pjQtJX0y"
      },
      "execution_count": null,
      "outputs": []
    },
    {
      "cell_type": "code",
      "source": [
        "sns.jointplot(diamonds, x='carat', y='depth', hue='cut');"
      ],
      "metadata": {
        "id": "iz_ErZ92JXyG"
      },
      "execution_count": null,
      "outputs": []
    },
    {
      "cell_type": "code",
      "source": [
        "sns.jointplot(diamonds, x='carat', y='depth', hue='cut', ratio=3, marginal_ticks=True);"
      ],
      "metadata": {
        "id": "QJ60i-gbJGFj"
      },
      "execution_count": null,
      "outputs": []
    },
    {
      "cell_type": "code",
      "source": [
        "sns.jointplot(diamonds, x='carat', y='depth', hue='cut', height=5, ratio=2, marginal_ticks=True);"
      ],
      "metadata": {
        "id": "7etYVvu1Jv50"
      },
      "execution_count": null,
      "outputs": []
    },
    {
      "cell_type": "code",
      "source": [
        "sns.jointplot(data=diamonds, x='carat', y='depth', hue='cut', marker='^');"
      ],
      "metadata": {
        "id": "66e1B5wlJv2a"
      },
      "execution_count": null,
      "outputs": []
    },
    {
      "cell_type": "code",
      "source": [
        "g = sns.JointGrid(data=diamonds, x=\"carat\", y=\"price\", hue='cut', ratio=4, marginal_ticks=True)\n",
        "g.plot_joint(sns.scatterplot, s=50, alpha=.5)\n",
        "g.plot_marginals(sns.histplot, kde=True);"
      ],
      "metadata": {
        "id": "VKdywGpaJ1sS"
      },
      "execution_count": null,
      "outputs": []
    },
    {
      "cell_type": "code",
      "source": [
        "jgrd_cut = sns.JointGrid(data=diamonds, x='carat', y='price', hue='cut')\n",
        "jgrd_cut.plot(sns.scatterplot, sns.histplot, alpha=.7, edgecolor='.2', linewidth=.5);"
      ],
      "metadata": {
        "id": "gMYqqgWrJvz2"
      },
      "execution_count": null,
      "outputs": []
    },
    {
      "cell_type": "code",
      "source": [
        "jgrd_col = sns.JointGrid(data=diamonds, x='carat', y='price', hue='color', ratio=2)\n",
        "jgrd_col.plot(sns.scatterplot, sns.boxplot);"
      ],
      "metadata": {
        "id": "dhGlymrSJvxC"
      },
      "execution_count": null,
      "outputs": []
    },
    {
      "cell_type": "code",
      "source": [
        "jgrd_clarity = sns.JointGrid(data=diamonds, x='carat', y='price', hue='clarity')\n",
        "jgrd_clarity.plot(sns.scatterplot, sns.kdeplot);"
      ],
      "metadata": {
        "id": "1b0t9XTBJvuM"
      },
      "execution_count": null,
      "outputs": []
    },
    {
      "cell_type": "markdown",
      "source": [
        "##ch 12 단원12 인터렉티브 그래프"
      ],
      "metadata": {
        "id": "i83rgfsJJ8ks"
      }
    },
    {
      "cell_type": "code",
      "source": [
        "!pip show plotly"
      ],
      "metadata": {
        "id": "xDLZhe7uJ8b8"
      },
      "execution_count": null,
      "outputs": []
    },
    {
      "cell_type": "code",
      "source": [
        "import pandas as pd\n",
        "mpg = pd.read_csv('data/mpg.csv')"
      ],
      "metadata": {
        "id": "wzxo4BcUJ8Yl"
      },
      "execution_count": null,
      "outputs": []
    },
    {
      "cell_type": "code",
      "source": [
        "# 자동차 종류별 빈도 구하기\n",
        "df = mpg.groupby('category', as_index = False).agg(n = ('category', 'count'))\n",
        "display_sbs(df, mpg.groupby('category').agg(n = ('category', 'count')))"
      ],
      "metadata": {
        "id": "n8AE9xCrJ8Vq"
      },
      "execution_count": null,
      "outputs": []
    },
    {
      "cell_type": "code",
      "source": [
        "# 막대 그래프 만들기\n",
        "px.bar(data_frame = df, x = 'category', y = 'n', color = 'category')"
      ],
      "metadata": {
        "id": "lHU-N33DJ8TC"
      },
      "execution_count": null,
      "outputs": []
    },
    {
      "cell_type": "code",
      "source": [
        "px.histogram(mpg, x='category', color=\"category\", barmode='group')"
      ],
      "metadata": {
        "id": "9P5qi0OaJ8QK"
      },
      "execution_count": null,
      "outputs": []
    },
    {
      "cell_type": "code",
      "source": [
        "sns.countplot(mpg, x='category', hue=\"category\");"
      ],
      "metadata": {
        "id": "urpP3mVWJvrV"
      },
      "execution_count": null,
      "outputs": []
    },
    {
      "cell_type": "markdown",
      "source": [
        "# 선 그래프 만들기"
      ],
      "metadata": {
        "id": "i39IcBEeKLg_"
      }
    },
    {
      "cell_type": "code",
      "source": [
        "# economics 불러오기\n",
        "economics = pd.read_csv('data/economics.csv')\n",
        "\n",
        "# 선 그래프 만들기\n",
        "px.line(data_frame = economics, x = 'date', y = 'psavert')\n"
      ],
      "metadata": {
        "id": "jie4tJhOKLXl"
      },
      "execution_count": null,
      "outputs": []
    },
    {
      "cell_type": "markdown",
      "source": [
        "# 상자 그림 만들기"
      ],
      "metadata": {
        "id": "-siT2hTNKPf_"
      }
    },
    {
      "cell_type": "code",
      "source": [
        "# 상자 그림 만들기\n",
        "px.box(data_frame = mpg, x = 'drv', y = 'hwy', color = 'drv')"
      ],
      "metadata": {
        "id": "z0fDPpMHKLUd"
      },
      "execution_count": null,
      "outputs": []
    },
    {
      "cell_type": "markdown",
      "source": [
        "그래프 크기 조절하기"
      ],
      "metadata": {
        "id": "uoeOP2_FKS5q"
      }
    },
    {
      "cell_type": "code",
      "source": [
        "px.scatter(data_frame = mpg, x = 'hwy', y = 'cty', color = 'drv',\n",
        "           width = 600, height = 400)"
      ],
      "metadata": {
        "id": "K5XAvC70KLRf"
      },
      "execution_count": null,
      "outputs": []
    },
    {
      "cell_type": "markdown",
      "source": [
        "HTML 파일로 저장하기\n"
      ],
      "metadata": {
        "id": "w3-XUZUhKWIB"
      }
    },
    {
      "cell_type": "code",
      "source": [
        "# 그래프를 변수에 할당하기\n",
        "fig = px.scatter(data_frame = mpg, x = 'cty', y = 'hwy')\n",
        "\n",
        "# html로 저장하기\n",
        "# fig.write_html('scatter_plot.html', full_html = True, auto_play = True)\n",
        "fig.write_html('scatter_plot.html')"
      ],
      "metadata": {
        "id": "OkvmkX3DKLOj"
      },
      "execution_count": null,
      "outputs": []
    },
    {
      "cell_type": "markdown",
      "source": [
        "단원 13 데이터분석 보고서: 마크다운\n",
        "문자 앞뒤에 특수문자를 넣으면 기울임체가 됩니다.\n",
        "\n",
        "문자 앞뒤에 특수문자를 넣으면 강조체가 됩니다.\n",
        "\n",
        "문자 앞뒤에 특수문자를 넣으면 취소선을 만듭니다.\n",
        "\n",
        "문자 앞뒤에 특수문자를 넣으면 하이퍼링크를 만듭니다."
      ],
      "metadata": {
        "id": "h4bdUNP6KhRf"
      }
    },
    {
      "cell_type": "code",
      "source": [],
      "metadata": {
        "id": "ZJtQQobXKLLi"
      },
      "execution_count": null,
      "outputs": []
    },
    {
      "cell_type": "code",
      "source": [],
      "metadata": {
        "id": "S5BjgwYKJvo6"
      },
      "execution_count": null,
      "outputs": []
    },
    {
      "cell_type": "code",
      "source": [],
      "metadata": {
        "id": "JZWuEPN1JvmT"
      },
      "execution_count": null,
      "outputs": []
    }
  ]
}